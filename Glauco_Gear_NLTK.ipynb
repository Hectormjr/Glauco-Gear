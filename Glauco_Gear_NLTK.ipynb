{
 "cells": [
  {
   "cell_type": "code",
   "execution_count": 105,
   "metadata": {},
   "outputs": [],
   "source": [
    "import pickle\n",
    "import nltk\n",
    "from nltk.tokenize import word_tokenize\n",
    "from nltk.corpus import stopwords"
   ]
  },
  {
   "cell_type": "code",
   "execution_count": 115,
   "metadata": {},
   "outputs": [
    {
     "name": "stdout",
     "output_type": "stream",
     "text": [
      "Texto sem Stop_Words : \n",
      "\n",
      "['Quero', 'participar', 'estágio', 'verão', 'GlucoGear', ',', '6', 'Janeiro', '20', 'Fevereiro', ',', 'desenvolvendo', 'projeto', 'python', 'processamento', 'linguages', 'naturais', '!']\n",
      "\n",
      "Substantivos : \n",
      "\n",
      "estágio\n",
      "verão\n",
      "Janeiro\n",
      "Fevereiro\n",
      "projeto\n",
      "python\n",
      "processamento\n",
      "linguages\n",
      "\n",
      "Números : \n",
      "\n",
      "6\n",
      "20\n"
     ]
    }
   ],
   "source": [
    "def textoFormatado():\n",
    "#Importanto o texto e formantando-o\n",
    "    texto = []\n",
    "    arqtxt = open('Texto.txt')\n",
    "    [texto.append(line) for line in arqtxt ]\n",
    "    texto = str(texto).strip('[]').strip(\"'\")\n",
    "    return texto\n",
    "\n",
    "def textoSemStop_Words(sentença):  \n",
    "#Retirando as stopwords do texto\n",
    "    stop_words = set(stopwords.words('portuguese'))\n",
    "    palavras = word_tokenize(sentença)\n",
    "    texto_sem_stop_words = [p for p in palavras if not p in stop_words]\n",
    "    texto_sem_stop_words = str(texto_sem_stop_words)\n",
    "    print('Texto sem Stop_Words : \\n')\n",
    "    print(texto_sem_stop_words)\n",
    "\n",
    "def textoTagging(sentença):\n",
    "#Aplicando tagging ao texto\n",
    "    tagger = pickle.load(open(\"tagger.pkl\",'rb'))\n",
    "    portuguese_sent_tokenizer = nltk.data.load(\"tokenizers/punkt/portuguese.pickle\")\n",
    "    sentences = portuguese_sent_tokenizer.tokenize(sentença)\n",
    "    tags = tagger.tag(nltk.word_tokenize(sentença))\n",
    "    return tags\n",
    "\n",
    "def textoValorSintatico(syntax):\n",
    "#Indentificando os substantivos e os números\n",
    "    print('\\nSubstantivos : \\n')\n",
    "    for i in range(len(syntax)):\n",
    "        if syntax[i][1] == 'NOUN':\n",
    "            print(syntax[i][0])\n",
    "            \n",
    "    print('\\nNúmeros : \\n')\n",
    "    for i in range(len(syntax)):\n",
    "        if syntax[i][1] == 'NUM':\n",
    "            print(syntax[i][0])\n",
    "            \n",
    "texto = textoFormatado()\n",
    "\n",
    "textoSemStop_Words(texto)\n",
    "\n",
    "tag = textoTagging(texto)\n",
    "\n",
    "textoValorSintatico(tag)\n"
   ]
  },
  {
   "cell_type": "code",
   "execution_count": 116,
   "metadata": {},
   "outputs": [
    {
     "name": "stdout",
     "output_type": "stream",
     "text": [
      "\n",
      "Note: you may need to restart the kernel to use updated packages.\n"
     ]
    }
   ],
   "source": [
    "conda list -e > requirements.txt"
   ]
  },
  {
   "cell_type": "code",
   "execution_count": null,
   "metadata": {},
   "outputs": [],
   "source": []
  }
 ],
 "metadata": {
  "kernelspec": {
   "display_name": "Python 3",
   "language": "python",
   "name": "python3"
  },
  "language_info": {
   "codemirror_mode": {
    "name": "ipython",
    "version": 3
   },
   "file_extension": ".py",
   "mimetype": "text/x-python",
   "name": "python",
   "nbconvert_exporter": "python",
   "pygments_lexer": "ipython3",
   "version": "3.7.4"
  }
 },
 "nbformat": 4,
 "nbformat_minor": 2
}
